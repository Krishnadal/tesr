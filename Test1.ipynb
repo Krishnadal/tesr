{
  "nbformat": 4,
  "nbformat_minor": 0,
  "metadata": {
    "colab": {
      "name": "Test1.ipynb",
      "provenance": [],
      "collapsed_sections": []
    },
    "kernelspec": {
      "name": "python3",
      "display_name": "Python 3"
    }
  },
  "cells": [
    {
      "cell_type": "code",
      "metadata": {
        "id": "5RpGEDPRx5IJ",
        "colab_type": "code",
        "outputId": "9cbec0e4-2945-4b49-9675-c07c198ce821",
        "colab": {
          "base_uri": "https://localhost:8080/",
          "height": 52
        }
      },
      "source": [
        "n = int(input('value: '))\n",
        "\n",
        "\n",
        "def fact(n):\n",
        "  if n == 0:\n",
        "    return 1\n",
        "  else:\n",
        "    rec = fact(n-1)\n",
        "    result = n * rec\n",
        "    return result\n",
        "\n",
        "\n",
        "print(fact(n))\n",
        "\n",
        "\n",
        "\n"
      ],
      "execution_count": 0,
      "outputs": [
        {
          "output_type": "stream",
          "text": [
            "value: 7\n",
            "5040\n"
          ],
          "name": "stdout"
        }
      ]
    },
    {
      "cell_type": "code",
      "metadata": {
        "id": "qq-Z-Pi7Qgxz",
        "colab_type": "code",
        "outputId": "77a8347e-1cb7-41bf-d225-ead38b2e9af6",
        "colab": {
          "base_uri": "https://localhost:8080/",
          "height": 208
        }
      },
      "source": [
        "n = int(input('vlaue: '))\n",
        "\n",
        "def feb(n):\n",
        "  if n == 0:\n",
        "    return 0\n",
        "  elif n == 1:\n",
        "    return 1\n",
        "  else:\n",
        "    rec = feb(n-1) + feb(n-2)\n",
        "    return rec\n",
        "\n",
        "print('fibnocci vale for ' + str(n)+ ' is ' +str(feb(n)))\n",
        "for i in range(2, n+1):\n",
        "  print(feb(i))\n",
        "  "
      ],
      "execution_count": 0,
      "outputs": [
        {
          "output_type": "stream",
          "text": [
            "vlaue: 10\n",
            "fibnocci vale for 10 is 55\n",
            "1\n",
            "2\n",
            "3\n",
            "5\n",
            "8\n",
            "13\n",
            "21\n",
            "34\n",
            "55\n"
          ],
          "name": "stdout"
        }
      ]
    },
    {
      "cell_type": "code",
      "metadata": {
        "id": "xHtytf2NR3PO",
        "colab_type": "code",
        "outputId": "f623c05e-a24a-44a2-cb44-f7e0c4feb6a4",
        "colab": {
          "base_uri": "https://localhost:8080/",
          "height": 69
        }
      },
      "source": [
        "for x in range(0, 3):\n",
        "    print(\"We're on time %d ew\" % (x))"
      ],
      "execution_count": 0,
      "outputs": [
        {
          "output_type": "stream",
          "text": [
            "We're on time 0 ew\n",
            "We're on time 1 ew\n",
            "We're on time 2 ew\n"
          ],
          "name": "stdout"
        }
      ]
    },
    {
      "cell_type": "code",
      "metadata": {
        "id": "n1wuokutMNEz",
        "colab_type": "code",
        "outputId": "6bb18de2-d4da-4e10-b66f-a66887101c7f",
        "colab": {
          "base_uri": "https://localhost:8080/",
          "height": 69
        }
      },
      "source": [
        "def myFunction(myList1):\n",
        "    print(myList1)\n",
        "    myList1 = [0, 1]\n",
        "\n",
        "\n",
        "myList2 = [2, 3]\n",
        "myFunction(myList2)\n",
        "print(myFunction(myList2))"
      ],
      "execution_count": 0,
      "outputs": [
        {
          "output_type": "stream",
          "text": [
            "[2, 3]\n",
            "[2, 3]\n",
            "None\n"
          ],
          "name": "stdout"
        }
      ]
    },
    {
      "cell_type": "code",
      "metadata": {
        "id": "VH47t_-aBYOC",
        "colab_type": "code",
        "outputId": "687c86e0-a31e-4368-fc22-0c4028147de2",
        "colab": {
          "base_uri": "https://localhost:8080/",
          "height": 52
        }
      },
      "source": [
        "def myFunction(myList1):\n",
        "    print(myList1)\n",
        "    del myList1[0]\n",
        "myList2 = [2, 3]\n",
        "myFunction(myList2)\n",
        "print(myList2)"
      ],
      "execution_count": 0,
      "outputs": [
        {
          "output_type": "stream",
          "text": [
            "[2, 3]\n",
            "[3]\n"
          ],
          "name": "stdout"
        }
      ]
    },
    {
      "cell_type": "code",
      "metadata": {
        "id": "yifJ__mzCQMC",
        "colab_type": "code",
        "outputId": "fcd5addd-8104-4880-d2cc-802e63e94cc9",
        "colab": {
          "base_uri": "https://localhost:8080/",
          "height": 35
        }
      },
      "source": [
        "50 // 40\n",
        "\n"
      ],
      "execution_count": 0,
      "outputs": [
        {
          "output_type": "execute_result",
          "data": {
            "text/plain": [
              "1"
            ]
          },
          "metadata": {
            "tags": []
          },
          "execution_count": 32
        }
      ]
    },
    {
      "cell_type": "code",
      "metadata": {
        "id": "YqrXqtckHj6C",
        "colab_type": "code",
        "outputId": "c6ae7260-9832-4633-8f2c-935e158749f3",
        "colab": {
          "base_uri": "https://localhost:8080/",
          "height": 35
        }
      },
      "source": [
        "def is_same(word1, word2):\n",
        "    if len(word1) != len(word2):\n",
        "        return False\n",
        "\n",
        "    i = 0\n",
        "    j = -1\n",
        "    while True:\n",
        "        print(i, j) # print here\n",
        "        if word1[i] != word2[j]:\n",
        "            return False\n",
        "  \n",
        "        i = i+1\n",
        "        j = j-1\n",
        "        if i == len(word2):\n",
        "          print('true')\n",
        "          break\n",
        "\n",
        "\n",
        "is_same('stop','pohhhrs')"
      ],
      "execution_count": 0,
      "outputs": [
        {
          "output_type": "execute_result",
          "data": {
            "text/plain": [
              "False"
            ]
          },
          "metadata": {
            "tags": []
          },
          "execution_count": 15
        }
      ]
    },
    {
      "cell_type": "code",
      "metadata": {
        "id": "Gzpzt6L3a-Iq",
        "colab_type": "code",
        "outputId": "0d154d89-62c7-4d3d-e9f0-d66cc97ef763",
        "colab": {
          "base_uri": "https://localhost:8080/",
          "height": 201
        }
      },
      "source": [
        "lst = [1,2,2,[1,2],3,4]\n",
        "dir(lst)\n",
        "lst.sort()"
      ],
      "execution_count": 0,
      "outputs": [
        {
          "output_type": "error",
          "ename": "TypeError",
          "evalue": "ignored",
          "traceback": [
            "\u001b[0;31m---------------------------------------------------------------------------\u001b[0m",
            "\u001b[0;31mTypeError\u001b[0m                                 Traceback (most recent call last)",
            "\u001b[0;32m<ipython-input-4-db65c30d85cb>\u001b[0m in \u001b[0;36m<module>\u001b[0;34m()\u001b[0m\n\u001b[1;32m      1\u001b[0m \u001b[0mlst\u001b[0m \u001b[0;34m=\u001b[0m \u001b[0;34m[\u001b[0m\u001b[0;36m1\u001b[0m\u001b[0;34m,\u001b[0m\u001b[0;36m2\u001b[0m\u001b[0;34m,\u001b[0m\u001b[0;36m2\u001b[0m\u001b[0;34m,\u001b[0m\u001b[0;34m[\u001b[0m\u001b[0;36m1\u001b[0m\u001b[0;34m,\u001b[0m\u001b[0;36m2\u001b[0m\u001b[0;34m]\u001b[0m\u001b[0;34m,\u001b[0m\u001b[0;36m3\u001b[0m\u001b[0;34m,\u001b[0m\u001b[0;36m4\u001b[0m\u001b[0;34m]\u001b[0m\u001b[0;34m\u001b[0m\u001b[0;34m\u001b[0m\u001b[0m\n\u001b[1;32m      2\u001b[0m \u001b[0mdir\u001b[0m\u001b[0;34m(\u001b[0m\u001b[0mlst\u001b[0m\u001b[0;34m)\u001b[0m\u001b[0;34m\u001b[0m\u001b[0;34m\u001b[0m\u001b[0m\n\u001b[0;32m----> 3\u001b[0;31m \u001b[0mlst\u001b[0m\u001b[0;34m.\u001b[0m\u001b[0msort\u001b[0m\u001b[0;34m(\u001b[0m\u001b[0;34m)\u001b[0m\u001b[0;34m\u001b[0m\u001b[0;34m\u001b[0m\u001b[0m\n\u001b[0m",
            "\u001b[0;31mTypeError\u001b[0m: '<' not supported between instances of 'list' and 'int'"
          ]
        }
      ]
    },
    {
      "cell_type": "code",
      "metadata": {
        "id": "tkrl37HVF2ff",
        "colab_type": "code",
        "outputId": "de736b4d-7bc5-4ce7-e5bd-45c0716b4538",
        "colab": {
          "base_uri": "https://localhost:8080/",
          "height": 35
        }
      },
      "source": [
        "print('+', '-')"
      ],
      "execution_count": 0,
      "outputs": [
        {
          "output_type": "stream",
          "text": [
            "+ -\n"
          ],
          "name": "stdout"
        }
      ]
    },
    {
      "cell_type": "code",
      "metadata": {
        "id": "DwwniXzR2_F0",
        "colab_type": "code",
        "outputId": "c50764aa-4336-43a9-a3d1-fc6569527d4d",
        "colab": {
          "base_uri": "https://localhost:8080/",
          "height": 208
        }
      },
      "source": [
        "def do_twice(f):\n",
        "    f()\n",
        "    f()\n",
        "\n",
        "def do_four(f):\n",
        "    do_twice(f)\n",
        "    do_twice(f)\n",
        "\n",
        "def print_beam():\n",
        "    print('+ - - - -', end=' ')\n",
        "\n",
        "def print_post():\n",
        "    print('|        ', end=' ')\n",
        "\n",
        "def print_beams():\n",
        "    do_twice(print_beam)\n",
        "    print('+')\n",
        "\n",
        "def print_posts():\n",
        "    do_twice(print_post)\n",
        "    print('|')\n",
        "\n",
        "def print_row():\n",
        "    print_beams()\n",
        "    do_four(print_posts)\n",
        "\n",
        "def print_grid():\n",
        "    do_twice(print_row)\n",
        "    print_beams()\n",
        "\n",
        "print_grid()\n"
      ],
      "execution_count": 0,
      "outputs": [
        {
          "output_type": "stream",
          "text": [
            "+ - - - - + - - - - +\n",
            "|         |         |\n",
            "|         |         |\n",
            "|         |         |\n",
            "|         |         |\n",
            "+ - - - - + - - - - +\n",
            "|         |         |\n",
            "|         |         |\n",
            "|         |         |\n",
            "|         |         |\n",
            "+ - - - - + - - - - +\n"
          ],
          "name": "stdout"
        }
      ]
    },
    {
      "cell_type": "code",
      "metadata": {
        "id": "SKTCak5l3MRj",
        "colab_type": "code",
        "outputId": "d6aef757-f6d1-4f06-bfc7-0cd635e45de6",
        "colab": {
          "base_uri": "https://localhost:8080/",
          "height": 52
        }
      },
      "source": [
        "word = 'lol'\n",
        "print(word[::-1])\n",
        "print(word)"
      ],
      "execution_count": 0,
      "outputs": [
        {
          "output_type": "stream",
          "text": [
            "lol\n",
            "lol\n"
          ],
          "name": "stdout"
        }
      ]
    },
    {
      "cell_type": "code",
      "metadata": {
        "id": "iEZp_liEa_lt",
        "colab_type": "code",
        "outputId": "4e5f1d48-fb25-4d22-ca24-4f8093c22b6f",
        "colab": {
          "base_uri": "https://localhost:8080/",
          "height": 35
        }
      },
      "source": [
        "t = [1,'g','j']\n",
        "y = ['l','g','l']\n",
        "\n",
        "t.append(y)\n",
        "t[3][2]\n"
      ],
      "execution_count": 0,
      "outputs": [
        {
          "output_type": "execute_result",
          "data": {
            "text/plain": [
              "'l'"
            ]
          },
          "metadata": {
            "tags": []
          },
          "execution_count": 11
        }
      ]
    },
    {
      "cell_type": "code",
      "metadata": {
        "id": "u0rg8BRU3k7-",
        "colab_type": "code",
        "outputId": "b103fe45-b286-48ab-b7bc-394224d69294",
        "colab": {
          "base_uri": "https://localhost:8080/",
          "height": 35
        }
      },
      "source": [
        "tup = (3,4,'t',(5,'t'))\n",
        "tup."
      ],
      "execution_count": 0,
      "outputs": [
        {
          "output_type": "execute_result",
          "data": {
            "text/plain": [
              "(3, 4, 't', (5, 't'))"
            ]
          },
          "metadata": {
            "tags": []
          },
          "execution_count": 2
        }
      ]
    },
    {
      "cell_type": "code",
      "metadata": {
        "id": "jvY4x7XIP3Qh",
        "colab_type": "code",
        "outputId": "182cff7f-eb24-48ce-879f-343ad59b3b23",
        "colab": {
          "base_uri": "https://localhost:8080/",
          "height": 52
        }
      },
      "source": [
        "t = ['cls',22,]\n",
        "(name,age) = t\n",
        "print(len(name))\n",
        "print(name)"
      ],
      "execution_count": 0,
      "outputs": [
        {
          "output_type": "stream",
          "text": [
            "3\n",
            "cls\n"
          ],
          "name": "stdout"
        }
      ]
    },
    {
      "cell_type": "code",
      "metadata": {
        "id": "kVJH1wvrTaDh",
        "colab_type": "code",
        "outputId": "70f62972-d1a0-45af-df05-d3ae67b2dc1f",
        "colab": {
          "base_uri": "https://localhost:8080/",
          "height": 35
        }
      },
      "source": [
        "p = ['f','g']\n",
        "q = ['d','f']\n",
        "r = zip(p,q)\n",
        "r"
      ],
      "execution_count": 0,
      "outputs": [
        {
          "output_type": "execute_result",
          "data": {
            "text/plain": [
              "<zip at 0x7f9e0c163c08>"
            ]
          },
          "metadata": {
            "tags": []
          },
          "execution_count": 17
        }
      ]
    },
    {
      "cell_type": "code",
      "metadata": {
        "id": "sTqxjyHZc2dW",
        "colab_type": "code",
        "outputId": "4644e80a-2ee5-435b-d8e7-a20675b0f69f",
        "colab": {
          "base_uri": "https://localhost:8080/",
          "height": 35
        }
      },
      "source": [
        "name = 'sa'\n",
        "type(name)"
      ],
      "execution_count": 0,
      "outputs": [
        {
          "output_type": "execute_result",
          "data": {
            "text/plain": [
              "str"
            ]
          },
          "metadata": {
            "tags": []
          },
          "execution_count": 6
        }
      ]
    },
    {
      "cell_type": "code",
      "metadata": {
        "id": "fvfLNyuaUfed",
        "colab_type": "code",
        "outputId": "796926f7-a330-4d06-9a4a-84c8baeba9ce",
        "colab": {
          "base_uri": "https://localhost:8080/",
          "height": 87
        }
      },
      "source": [
        "a = 10\n",
        "a = b\n",
        "\n",
        "b = 9\n",
        "\n",
        "print(id(a))\n",
        "print(id(b))\n",
        "print(b)\n",
        "print(a)"
      ],
      "execution_count": 0,
      "outputs": [
        {
          "output_type": "stream",
          "text": [
            "139925084425632\n",
            "10914752\n",
            "9\n",
            "(9,)\n"
          ],
          "name": "stdout"
        }
      ]
    },
    {
      "cell_type": "code",
      "metadata": {
        "id": "LuMlN6OLcukb",
        "colab_type": "code",
        "colab": {}
      },
      "source": [
        ""
      ],
      "execution_count": 0,
      "outputs": []
    },
    {
      "cell_type": "code",
      "metadata": {
        "id": "Bc4hyByNcRUw",
        "colab_type": "code",
        "colab": {}
      },
      "source": [
        ""
      ],
      "execution_count": 0,
      "outputs": []
    }
  ]
}