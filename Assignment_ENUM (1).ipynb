{
 "cells": [
  {
   "cell_type": "code",
   "execution_count": 1,
   "metadata": {
    "colab": {
     "base_uri": "https://localhost:8080/",
     "height": 35
    },
    "colab_type": "code",
    "id": "xPyPVIaZiuhC",
    "outputId": "69606964-8c74-47c4-a2c0-64b179805d38"
   },
   "outputs": [
    {
     "name": "stdout",
     "output_type": "stream",
     "text": [
      "[(0, 1), (1, 3), (2, 6)]\n",
      "[(0, 1), (1, 3), (2, 6)]\n"
     ]
    }
   ],
   "source": [
    "#function that takes a nested list numbers and returns the cumulative sum including number of listes nested\n",
    "\n",
    "def cum(lst):\n",
    "  sum_of_numbers = 0\n",
    "  cum_list = list()\n",
    "  for i in lst:\n",
    "    sum_of_numbers += i\n",
    "    cum_list.append(sum_of_numbers)\n",
    "  return cum_list\n",
    "\n",
    "m = cum([1,2,3])\n",
    "\n",
    "x = list(enumerate(m))\n",
    "print(x)\n",
    "print(x)\n",
    "\n"
   ]
  },
  {
   "cell_type": "code",
   "execution_count": 0,
   "metadata": {
    "colab": {
     "base_uri": "https://localhost:8080/",
     "height": 104
    },
    "colab_type": "code",
    "id": "zYc6k7iJjlhq",
    "outputId": "770a32b7-9f77-4fc8-aceb-3f878578b2a8"
   },
   "outputs": [
    {
     "name": "stdout",
     "output_type": "stream",
     "text": [
      "index 0\n",
      "index 3\n",
      "index 1\n",
      "index 4\n",
      "27\n"
     ]
    }
   ],
   "source": [
    "  \n",
    "\n",
    "def nested_sum(l):\n",
    "    total = 0\n",
    "    for index, n in enumerate(l, 0):\n",
    "        if type(n) == int:\n",
    "            total = total + n\n",
    "        else:\n",
    "            type(n) == list\n",
    "            print('index',index)\n",
    "            total = nested_sum(n) + total\n",
    "    return total\n",
    "\n",
    "print('xxx')\n",
    "l = [[3],2,3,[2,[4,5]],[3,5]]\n",
    "print(nested_sum(l))"
   ]
  },
  {
   "cell_type": "code",
   "execution_count": 0,
   "metadata": {
    "colab": {
     "base_uri": "https://localhost:8080/",
     "height": 52
    },
    "colab_type": "code",
    "id": "JUqeFKBTnULU",
    "outputId": "b28f411f-9687-476a-c7ad-30a40f4b207c"
   },
   "outputs": [
    {
     "name": "stdout",
     "output_type": "stream",
     "text": [
      "Letter #0 is a/A\n",
      "Letter #1 is b/B\n"
     ]
    }
   ],
   "source": [
    "letters = [('a', 'A'), ('b', 'B')]\n",
    "for i, tuple in enumerate(letters):\n",
    "    (lowercase, uppercase) = tuple\n",
    "    print(\"Letter #%d is %s/%s\" %(i, lowercase, uppercase))\n"
   ]
  },
  {
   "cell_type": "code",
   "execution_count": 0,
   "metadata": {
    "colab": {},
    "colab_type": "code",
    "id": "9blFCAWCrc10"
   },
   "outputs": [],
   "source": []
  }
 ],
 "metadata": {
  "colab": {
   "collapsed_sections": [],
   "name": "Assignment_ENUM.ipynb",
   "provenance": []
  },
  "kernelspec": {
   "display_name": "Python 3",
   "language": "python",
   "name": "python3"
  },
  "language_info": {
   "codemirror_mode": {
    "name": "ipython",
    "version": 3
   },
   "file_extension": ".py",
   "mimetype": "text/x-python",
   "name": "python",
   "nbconvert_exporter": "python",
   "pygments_lexer": "ipython3",
   "version": "3.7.6"
  }
 },
 "nbformat": 4,
 "nbformat_minor": 1
}
